{
 "cells": [
  {
   "cell_type": "markdown",
   "metadata": {},
   "source": [
    "<div style=\"text-align: center;\">\n",
    "    <h1 style=\"font-size:26px;\">ENTRENAMIENTO Y EVALUACIÓN CON DATOS BALANCEADOS OVERSAMPLING</h1>\n",
    "</d>"
   ]
  },
  {
   "cell_type": "code",
   "execution_count": 49,
   "metadata": {},
   "outputs": [],
   "source": [
    "# Importar librerías necesarias\n",
    "import pandas as pd  # Para manejar los datos # type: ignore\n",
    "import numpy as np  # Para operaciones numéricas# type: ignore\n",
    "import pickle #Para guardar los modelos\n",
    "import warnings #Elimina mensajes de alerta\n",
    "warnings.simplefilter(\"ignore\")\n",
    "\n",
    "# Importamos las librerias para realizar el oversampling\n",
    "from imblearn.over_sampling import RandomOverSampler # type: ignore\n",
    "\n",
    "# Modelos supervisados de clasificación\n",
    "from sklearn.linear_model import LogisticRegression  # Regresión logística # type: ignore\n",
    "from sklearn.tree import DecisionTreeClassifier  # Árbol de decisión # type: ignore\n",
    "from sklearn.ensemble import RandomForestClassifier  # Bosque aleatorio # type: ignore\n",
    "from sklearn.ensemble import GradientBoostingClassifier # type: ignore\n",
    "\n",
    "# Metricas de evaluacion de los modelos\n",
    "from sklearn.metrics import accuracy_score, confusion_matrix, classification_report # Para evaluación # type: ignore\n",
    "\n",
    "# Division de la Dataset\n",
    "from sklearn.model_selection import train_test_split  # Para dividir el dataset en entrenamiento y prueba # type: ignore\n",
    "\n",
    "# Visualización de datos\n",
    "import matplotlib.pyplot as plt  # Para gráficos # type: ignore\n",
    "import seaborn as sns  # Para gráficos más complejos # type: ignore"
   ]
  },
  {
   "cell_type": "markdown",
   "metadata": {},
   "source": [
    "#### REALIZAMOS LA LECTURA DE NUESTROS DATOS PREPARADOS DE MAQUINARIA INDUSTRIAL"
   ]
  },
  {
   "cell_type": "code",
   "execution_count": 50,
   "metadata": {},
   "outputs": [
    {
     "data": {
      "text/html": [
       "<div>\n",
       "<style scoped>\n",
       "    .dataframe tbody tr th:only-of-type {\n",
       "        vertical-align: middle;\n",
       "    }\n",
       "\n",
       "    .dataframe tbody tr th {\n",
       "        vertical-align: top;\n",
       "    }\n",
       "\n",
       "    .dataframe thead th {\n",
       "        text-align: right;\n",
       "    }\n",
       "</style>\n",
       "<table border=\"1\" class=\"dataframe\">\n",
       "  <thead>\n",
       "    <tr style=\"text-align: right;\">\n",
       "      <th></th>\n",
       "      <th>Type_H</th>\n",
       "      <th>Type_L</th>\n",
       "      <th>Type_M</th>\n",
       "      <th>Air temperature [K]</th>\n",
       "      <th>Process temperature [K]</th>\n",
       "      <th>Rotational speed [rpm]</th>\n",
       "      <th>Torque [Nm]</th>\n",
       "      <th>Tool wear [min]</th>\n",
       "      <th>Machine Failure</th>\n",
       "    </tr>\n",
       "  </thead>\n",
       "  <tbody>\n",
       "    <tr>\n",
       "      <th>0</th>\n",
       "      <td>0</td>\n",
       "      <td>0</td>\n",
       "      <td>1</td>\n",
       "      <td>298.1</td>\n",
       "      <td>308.6</td>\n",
       "      <td>1551</td>\n",
       "      <td>42.8</td>\n",
       "      <td>0</td>\n",
       "      <td>0</td>\n",
       "    </tr>\n",
       "    <tr>\n",
       "      <th>1</th>\n",
       "      <td>0</td>\n",
       "      <td>1</td>\n",
       "      <td>0</td>\n",
       "      <td>298.2</td>\n",
       "      <td>308.7</td>\n",
       "      <td>1408</td>\n",
       "      <td>46.3</td>\n",
       "      <td>3</td>\n",
       "      <td>0</td>\n",
       "    </tr>\n",
       "    <tr>\n",
       "      <th>2</th>\n",
       "      <td>0</td>\n",
       "      <td>1</td>\n",
       "      <td>0</td>\n",
       "      <td>298.1</td>\n",
       "      <td>308.5</td>\n",
       "      <td>1498</td>\n",
       "      <td>49.4</td>\n",
       "      <td>5</td>\n",
       "      <td>0</td>\n",
       "    </tr>\n",
       "    <tr>\n",
       "      <th>3</th>\n",
       "      <td>0</td>\n",
       "      <td>1</td>\n",
       "      <td>0</td>\n",
       "      <td>298.2</td>\n",
       "      <td>308.6</td>\n",
       "      <td>1433</td>\n",
       "      <td>39.5</td>\n",
       "      <td>7</td>\n",
       "      <td>0</td>\n",
       "    </tr>\n",
       "    <tr>\n",
       "      <th>4</th>\n",
       "      <td>0</td>\n",
       "      <td>1</td>\n",
       "      <td>0</td>\n",
       "      <td>298.2</td>\n",
       "      <td>308.7</td>\n",
       "      <td>1408</td>\n",
       "      <td>40.0</td>\n",
       "      <td>9</td>\n",
       "      <td>0</td>\n",
       "    </tr>\n",
       "  </tbody>\n",
       "</table>\n",
       "</div>"
      ],
      "text/plain": [
       "   Type_H  Type_L  Type_M  Air temperature [K]  Process temperature [K]  \\\n",
       "0       0       0       1                298.1                    308.6   \n",
       "1       0       1       0                298.2                    308.7   \n",
       "2       0       1       0                298.1                    308.5   \n",
       "3       0       1       0                298.2                    308.6   \n",
       "4       0       1       0                298.2                    308.7   \n",
       "\n",
       "   Rotational speed [rpm]  Torque [Nm]  Tool wear [min]  Machine Failure  \n",
       "0                    1551         42.8                0                0  \n",
       "1                    1408         46.3                3                0  \n",
       "2                    1498         49.4                5                0  \n",
       "3                    1433         39.5                7                0  \n",
       "4                    1408         40.0                9                0  "
      ]
     },
     "execution_count": 50,
     "metadata": {},
     "output_type": "execute_result"
    }
   ],
   "source": [
    "base = pd.read_csv('PREPARACION_DATOS.csv', delimiter=',')\n",
    "base.head(5)"
   ]
  },
  {
   "cell_type": "markdown",
   "metadata": {},
   "source": [
    "#### DIVISION DE LOS DATOS PARA EL ENTRENAMIENTO Y PRUEBA"
   ]
  },
  {
   "cell_type": "markdown",
   "metadata": {},
   "source": [
    "##### SEPARACION DE LAS CARACTERISTICAS DE LA DATA \"X\" Y DE LA ETIQUETA \"Y\""
   ]
  },
  {
   "cell_type": "code",
   "execution_count": 51,
   "metadata": {},
   "outputs": [],
   "source": [
    "# Separar las características (X) y la columna objetivo (y)\n",
    "X = base.drop(columns=['Machine Failure'])  # Eliminar la columna 'Machine Failure' de X\n",
    "y = base['Machine Failure']  # Asignar 'Machine Failure' a y"
   ]
  },
  {
   "cell_type": "code",
   "execution_count": 52,
   "metadata": {},
   "outputs": [],
   "source": [
    "# Definir las columnas y la lista para almacenar resultados\n",
    "columnas = ['Type_H', 'Type_L', 'Type_M', 'Air temperature [K]',\n",
    "            'Process temperature [K]', 'Rotational speed [rpm]', 'Torque [Nm]',\n",
    "            'Tool wear [min]']\n",
    "\n",
    "# Aplicar Random Oversampling (oversampling) antes de dividir en conjunto de entrenamiento y prueba\n",
    "ros = RandomOverSampler(random_state=42)\n",
    "X_resampled, y_resampled = ros.fit_resample(X, y)  # Generar el conjunto balanceado\n",
    "\n",
    "# Dividir los datos balanceados en conjunto de entrenamiento y prueba\n",
    "X_train, X_test, y_train, y_test = train_test_split(X_resampled, y_resampled, test_size=0.2, random_state=42)"
   ]
  },
  {
   "cell_type": "code",
   "execution_count": 53,
   "metadata": {},
   "outputs": [
    {
     "name": "stdout",
     "output_type": "stream",
     "text": [
      "\n",
      "Distribución de clases después del oversampling:\n",
      "Machine Failure\n",
      "0    9661\n",
      "1    9661\n",
      "Name: count, dtype: int64\n"
     ]
    }
   ],
   "source": [
    "# Ver la distribución de clases después del oversampling\n",
    "print(\"\\nDistribución de clases después del oversampling:\")\n",
    "print(y_resampled.value_counts())"
   ]
  },
  {
   "cell_type": "markdown",
   "metadata": {},
   "source": [
    "#### REGRESION LOGISTICA"
   ]
  },
  {
   "cell_type": "code",
   "execution_count": 54,
   "metadata": {},
   "outputs": [
    {
     "name": "stdout",
     "output_type": "stream",
     "text": [
      "Columnas usadas: ['Type_H'], Exactitud: 0.5128\n",
      "Columnas usadas: ['Type_H', 'Type_L'], Exactitud: 0.5420\n",
      "Columnas usadas: ['Type_H', 'Type_L', 'Type_M'], Exactitud: 0.5420\n",
      "Columnas usadas: ['Type_H', 'Type_L', 'Type_M', 'Air temperature [K]'], Exactitud: 0.6031\n",
      "Columnas usadas: ['Type_H', 'Type_L', 'Type_M', 'Air temperature [K]', 'Process temperature [K]'], Exactitud: 0.6220\n",
      "Columnas usadas: ['Type_H', 'Type_L', 'Type_M', 'Air temperature [K]', 'Process temperature [K]', 'Rotational speed [rpm]'], Exactitud: 0.6197\n",
      "Columnas usadas: ['Type_H', 'Type_L', 'Type_M', 'Air temperature [K]', 'Process temperature [K]', 'Rotational speed [rpm]', 'Torque [Nm]'], Exactitud: 0.8010\n",
      "Columnas usadas: ['Type_H', 'Type_L', 'Type_M', 'Air temperature [K]', 'Process temperature [K]', 'Rotational speed [rpm]', 'Torque [Nm]', 'Tool wear [min]'], Exactitud: 0.8176\n"
     ]
    }
   ],
   "source": [
    "#listas para almacenar resultados\n",
    "resultados = {}\n",
    "col_modelo = []\n",
    "\n",
    "# Iterar sobre las columnas, acumulándolas en `col_modelo`\n",
    "for col in columnas:\n",
    "    col_modelo.append(col)\n",
    "    \n",
    "    # Crear subconjuntos de X_train y X_test usando solo las columnas actuales\n",
    "    X_train_subset = X_train[col_modelo]\n",
    "    X_test_subset = X_test[col_modelo]\n",
    "\n",
    "    # Crear el modelo de regresión logística\n",
    "    log_reg = LogisticRegression(max_iter=1000)  # Aseguramos que converja adecuadamente\n",
    "    log_reg.fit(X_train_subset, y_train)  # Entrenamos con los datos ya balanceados\n",
    "\n",
    "    # Realizar las predicciones\n",
    "    y_pred = log_reg.predict(X_test_subset)\n",
    "\n",
    "    # Evaluar el modelo utilizando precisión\n",
    "    accuracy = accuracy_score(y_test, y_pred)\n",
    "\n",
    "    # Almacenar el resultado de la precisión\n",
    "    resultados[tuple(col_modelo)] = accuracy\n",
    "\n",
    "    # Imprimir el resultado\n",
    "    print(f'Columnas usadas: {col_modelo}, Exactitud: {accuracy:.4f}')"
   ]
  },
  {
   "cell_type": "code",
   "execution_count": 55,
   "metadata": {},
   "outputs": [
    {
     "name": "stdout",
     "output_type": "stream",
     "text": [
      "Accuracy del entrenamiento: 82.32 %\n",
      "Accuracy del algoritmo: 81.76 %\n",
      "\n",
      "Informe de clasificación:\n"
     ]
    },
    {
     "data": {
      "text/html": [
       "<div>\n",
       "<style scoped>\n",
       "    .dataframe tbody tr th:only-of-type {\n",
       "        vertical-align: middle;\n",
       "    }\n",
       "\n",
       "    .dataframe tbody tr th {\n",
       "        vertical-align: top;\n",
       "    }\n",
       "\n",
       "    .dataframe thead th {\n",
       "        text-align: right;\n",
       "    }\n",
       "</style>\n",
       "<table border=\"1\" class=\"dataframe\">\n",
       "  <thead>\n",
       "    <tr style=\"text-align: right;\">\n",
       "      <th></th>\n",
       "      <th>precision</th>\n",
       "      <th>recall</th>\n",
       "      <th>f1-score</th>\n",
       "      <th>support</th>\n",
       "    </tr>\n",
       "  </thead>\n",
       "  <tbody>\n",
       "    <tr>\n",
       "      <th>0</th>\n",
       "      <td>0.810510</td>\n",
       "      <td>0.829369</td>\n",
       "      <td>0.819831</td>\n",
       "      <td>1934.0</td>\n",
       "    </tr>\n",
       "    <tr>\n",
       "      <th>1</th>\n",
       "      <td>0.825027</td>\n",
       "      <td>0.805800</td>\n",
       "      <td>0.815300</td>\n",
       "      <td>1931.0</td>\n",
       "    </tr>\n",
       "    <tr>\n",
       "      <th>macro avg</th>\n",
       "      <td>0.817768</td>\n",
       "      <td>0.817585</td>\n",
       "      <td>0.817566</td>\n",
       "      <td>3865.0</td>\n",
       "    </tr>\n",
       "    <tr>\n",
       "      <th>weighted avg</th>\n",
       "      <td>0.817763</td>\n",
       "      <td>0.817594</td>\n",
       "      <td>0.817567</td>\n",
       "      <td>3865.0</td>\n",
       "    </tr>\n",
       "  </tbody>\n",
       "</table>\n",
       "</div>"
      ],
      "text/plain": [
       "              precision    recall  f1-score  support\n",
       "0              0.810510  0.829369  0.819831   1934.0\n",
       "1              0.825027  0.805800  0.815300   1931.0\n",
       "macro avg      0.817768  0.817585  0.817566   3865.0\n",
       "weighted avg   0.817763  0.817594  0.817567   3865.0"
      ]
     },
     "execution_count": 55,
     "metadata": {},
     "output_type": "execute_result"
    }
   ],
   "source": [
    "# Evaluar la precisión en el conjunto de entrenamiento (conjunto balanceado)\n",
    "train_accuracy1 = accuracy_score(y_train, log_reg.predict(X_train_subset))\n",
    "print(f\"Accuracy del entrenamiento: {train_accuracy1*100:.2f} %\")\n",
    "\n",
    "# Realizar las predicciones en el conjunto de prueba balanceado\n",
    "y_pred_resampled = log_reg.predict(X_test_subset)\n",
    "\n",
    "# Evaluar la precisión en el conjunto de prueba balanceado\n",
    "test_accuracy1 = accuracy_score(y_test, y_pred_resampled)\n",
    "print(f\"Accuracy del algoritmo: {test_accuracy1*100:.2f} %\")\n",
    "\n",
    "# Imprimir el informe de clasificación\n",
    "print(\"\\nInforme de clasificación:\")\n",
    "class_report1 = classification_report(y_test, y_pred_resampled, output_dict=True)\n",
    "\n",
    "# Convertir el informe de clasificación en un DataFrame de pandas\n",
    "report_df1 = pd.DataFrame(class_report1).transpose()\n",
    "\n",
    "# Mostrar solo las métricas de las clases (eliminamos la fila 'accuracy')\n",
    "report_df1 = report_df1.drop('accuracy', axis=0)\n",
    "\n",
    "# Imprimir el resumen con las métricas por clase en formato de tabla\n",
    "report_df1"
   ]
  },
  {
   "cell_type": "code",
   "execution_count": 56,
   "metadata": {},
   "outputs": [
    {
     "data": {
      "image/png": "[encoded data removed]",
      "text/plain": [
       "<Figure size 600x400 with 1 Axes>"
      ]
     },
     "metadata": {},
     "output_type": "display_data"
    }
   ],
   "source": [
    "# Calcular la matriz de confusión\n",
    "cm1 = confusion_matrix(y_test, y_pred_resampled)  # Usar 'y_pred_resampled' para las predicciones del conjunto de prueba balanceado\n",
    "\n",
    "# Crear el gráfico de la matriz de confusión con nuevo estilo\n",
    "plt.figure(figsize=(6, 4))\n",
    "sns.heatmap(cm1, annot=True, fmt='d', cmap='YlGnBu', xticklabels=['Clase 0', 'Clase 1'], yticklabels=['Clase 0', 'Clase 1'],\n",
    "            cbar=False, linewidths=1, linecolor='black', square=True, annot_kws={\"size\": 16})\n",
    "\n",
    "# Títulos y etiquetas\n",
    "plt.title('Matriz de Confusión', fontsize=18)\n",
    "plt.xlabel('Predicción', fontsize=14)\n",
    "plt.ylabel('Realidad', fontsize=14)\n",
    "\n",
    "# Ajustar el tamaño de la fuente en los ejes\n",
    "plt.xticks(fontsize=12)\n",
    "plt.yticks(fontsize=12)\n",
    "\n",
    "# Mostrar el gráfico\n",
    "plt.show()"
   ]
  },
  {
   "cell_type": "code",
   "execution_count": 57,
   "metadata": {},
   "outputs": [
    {
     "name": "stdout",
     "output_type": "stream",
     "text": [
      "Especificidad: 0.83\n"
     ]
    }
   ],
   "source": [
    "# Extraer valores de la matriz de confusión\n",
    "TN = cm1[0, 0]  # Verdaderos Negativos\n",
    "FP = cm1[0, 1]  # Falsos Positivos\n",
    "\n",
    "# Calcular la especificidad\n",
    "especificidad = TN / (TN + FP)\n",
    "\n",
    "# Imprimir el resultado\n",
    "print(f\"Especificidad: {especificidad:.2f}\")"
   ]
  },
  {
   "cell_type": "markdown",
   "metadata": {},
   "source": [
    "### ARBOLES DE DESCISIONES"
   ]
  },
  {
   "cell_type": "code",
   "execution_count": 58,
   "metadata": {},
   "outputs": [
    {
     "name": "stdout",
     "output_type": "stream",
     "text": [
      "Columnas usadas: ['Type_H'], Exactitud: 0.5128\n",
      "Columnas usadas: ['Type_H', 'Type_L'], Exactitud: 0.5420\n",
      "Columnas usadas: ['Type_H', 'Type_L', 'Type_M'], Exactitud: 0.5420\n",
      "Columnas usadas: ['Type_H', 'Type_L', 'Type_M', 'Air temperature [K]'], Exactitud: 0.7050\n",
      "Columnas usadas: ['Type_H', 'Type_L', 'Type_M', 'Air temperature [K]', 'Process temperature [K]'], Exactitud: 0.9239\n",
      "Columnas usadas: ['Type_H', 'Type_L', 'Type_M', 'Air temperature [K]', 'Process temperature [K]', 'Rotational speed [rpm]'], Exactitud: 0.9860\n",
      "Columnas usadas: ['Type_H', 'Type_L', 'Type_M', 'Air temperature [K]', 'Process temperature [K]', 'Rotational speed [rpm]', 'Torque [Nm]'], Exactitud: 0.9891\n",
      "Columnas usadas: ['Type_H', 'Type_L', 'Type_M', 'Air temperature [K]', 'Process temperature [K]', 'Rotational speed [rpm]', 'Torque [Nm]', 'Tool wear [min]'], Exactitud: 0.9951\n"
     ]
    }
   ],
   "source": [
    "#listas para almacenar resultados\n",
    "resultados = {}\n",
    "col_modelo = []\n",
    "\n",
    "# Iterar sobre las columnas, acumulándolas en `col_modelo`\n",
    "for col in columnas:\n",
    "    col_modelo.append(col)\n",
    "    \n",
    "    # Crear subconjuntos de X_train y X_test usando solo las columnas actuales\n",
    "    X_train_subset = X_train[col_modelo]\n",
    "    X_test_subset = X_test[col_modelo]\n",
    "\n",
    "    # Crear el modelo de Árbol de Decisión\n",
    "    tree_model = DecisionTreeClassifier(random_state=42)  # Crear el modelo de árbol de decisión\n",
    "    tree_model.fit(X_train_subset, y_train)  # Entrenamos con los datos ya balanceados\n",
    "\n",
    "    # Realizar las predicciones\n",
    "    y_pred = tree_model.predict(X_test_subset)\n",
    "\n",
    "    # Evaluar el modelo utilizando precisión\n",
    "    accuracy = accuracy_score(y_test, y_pred)\n",
    "\n",
    "    # Almacenar el resultado de la precisión\n",
    "    resultados[tuple(col_modelo)] = accuracy\n",
    "\n",
    "    # Imprimir el resultado\n",
    "    print(f'Columnas usadas: {col_modelo}, Exactitud: {accuracy:.4f}')"
   ]
  },
  {
   "cell_type": "code",
   "execution_count": 59,
   "metadata": {},
   "outputs": [
    {
     "name": "stdout",
     "output_type": "stream",
     "text": [
      "Accuracy del entrenamiento: 100.00 %\n",
      "Accuracy del algoritmo: 99.51 %\n",
      "\n",
      "Informe de clasificación:\n"
     ]
    },
    {
     "data": {
      "text/html": [
       "<div>\n",
       "<style scoped>\n",
       "    .dataframe tbody tr th:only-of-type {\n",
       "        vertical-align: middle;\n",
       "    }\n",
       "\n",
       "    .dataframe tbody tr th {\n",
       "        vertical-align: top;\n",
       "    }\n",
       "\n",
       "    .dataframe thead th {\n",
       "        text-align: right;\n",
       "    }\n",
       "</style>\n",
       "<table border=\"1\" class=\"dataframe\">\n",
       "  <thead>\n",
       "    <tr style=\"text-align: right;\">\n",
       "      <th></th>\n",
       "      <th>precision</th>\n",
       "      <th>recall</th>\n",
       "      <th>f1-score</th>\n",
       "      <th>support</th>\n",
       "    </tr>\n",
       "  </thead>\n",
       "  <tbody>\n",
       "    <tr>\n",
       "      <th>0</th>\n",
       "      <td>1.000000</td>\n",
       "      <td>0.990176</td>\n",
       "      <td>0.995064</td>\n",
       "      <td>1934.0</td>\n",
       "    </tr>\n",
       "    <tr>\n",
       "      <th>1</th>\n",
       "      <td>0.990256</td>\n",
       "      <td>1.000000</td>\n",
       "      <td>0.995104</td>\n",
       "      <td>1931.0</td>\n",
       "    </tr>\n",
       "    <tr>\n",
       "      <th>macro avg</th>\n",
       "      <td>0.995128</td>\n",
       "      <td>0.995088</td>\n",
       "      <td>0.995084</td>\n",
       "      <td>3865.0</td>\n",
       "    </tr>\n",
       "    <tr>\n",
       "      <th>weighted avg</th>\n",
       "      <td>0.995132</td>\n",
       "      <td>0.995084</td>\n",
       "      <td>0.995084</td>\n",
       "      <td>3865.0</td>\n",
       "    </tr>\n",
       "  </tbody>\n",
       "</table>\n",
       "</div>"
      ],
      "text/plain": [
       "              precision    recall  f1-score  support\n",
       "0              1.000000  0.990176  0.995064   1934.0\n",
       "1              0.990256  1.000000  0.995104   1931.0\n",
       "macro avg      0.995128  0.995088  0.995084   3865.0\n",
       "weighted avg   0.995132  0.995084  0.995084   3865.0"
      ]
     },
     "execution_count": 59,
     "metadata": {},
     "output_type": "execute_result"
    }
   ],
   "source": [
    "# Evaluar la precisión en el conjunto de entrenamiento (balanceado)\n",
    "train_accuracy2 = accuracy_score(y_train, tree_model.predict(X_train_subset))  # Usamos el conjunto de entrenamiento balanceado\n",
    "print(f\"Accuracy del entrenamiento: {train_accuracy2*100:.2f} %\")\n",
    "\n",
    "# Realizar las predicciones en el conjunto de prueba (sin balancear)\n",
    "y_pred_resampled = tree_model.predict(X_test)  # Aquí se usa X_test sin resampling\n",
    "\n",
    "# Evaluar la precisión en el conjunto de prueba (sin balancear)\n",
    "test_accuracy2 = accuracy_score(y_test, y_pred_resampled)  # Evaluamos con el conjunto de prueba sin balancear\n",
    "print(f\"Accuracy del algoritmo: {test_accuracy2*100:.2f} %\")\n",
    "\n",
    "# Imprimir el informe de clasificación\n",
    "print(\"\\nInforme de clasificación:\")\n",
    "class_report2 = classification_report(y_test, y_pred_resampled, output_dict=True)  # Se evalúa el modelo en el conjunto de prueba\n",
    "\n",
    "# Convertir el informe de clasificación en un DataFrame de pandas\n",
    "report_df2 = pd.DataFrame(class_report2).transpose()\n",
    "\n",
    "# Mostrar solo las métricas de las clases (eliminamos la fila 'accuracy')\n",
    "report_df2 = report_df2.drop('accuracy', axis=0)\n",
    "\n",
    "# Imprimir el resumen con las métricas por clase en formato de tabla\n",
    "report_df2"
   ]
  },
  {
   "cell_type": "code",
   "execution_count": 60,
   "metadata": {},
   "outputs": [
    {
     "data": {
      "image/png": "[encoded data removed]",
      "text/plain": [
       "<Figure size 600x400 with 1 Axes>"
      ]
     },
     "metadata": {},
     "output_type": "display_data"
    }
   ],
   "source": [
    "# Calcular la matriz de confusión\n",
    "cm2 = confusion_matrix(y_test, y_pred_resampled)  # Usamos y_pred_resampled porque es el resultado final para el conjunto de prueba\n",
    "\n",
    "# Crear la gráfica de la matriz de confusión\n",
    "plt.figure(figsize=(6, 4))\n",
    "sns.heatmap(cm2, annot=True, fmt='d', cmap='YlGnBu', xticklabels=['Clase 0', 'Clase 1'], \n",
    "            yticklabels=['Clase 0', 'Clase 1'], cbar=False, linewidths=1, linecolor='black', \n",
    "            square=True, annot_kws={\"size\": 16})\n",
    "\n",
    "# Títulos y etiquetas\n",
    "plt.title('Matriz de Confusión', fontsize=18)\n",
    "plt.xlabel('Predicción', fontsize=14)\n",
    "plt.ylabel('Realidad', fontsize=14)\n",
    "\n",
    "# Ajustar el tamaño de la fuente en los ejes\n",
    "plt.xticks(fontsize=12)\n",
    "plt.yticks(fontsize=12)\n",
    "\n",
    "# Mostrar el gráfico\n",
    "plt.show()"
   ]
  },
  {
   "cell_type": "code",
   "execution_count": 61,
   "metadata": {},
   "outputs": [
    {
     "name": "stdout",
     "output_type": "stream",
     "text": [
      "Especificidad: 0.99\n"
     ]
    }
   ],
   "source": [
    "# Extraer valores de la matriz de confusión\n",
    "TN2 = cm2[0, 0]  # Verdaderos Negativos\n",
    "FP2 = cm2[0, 1]  # Falsos Positivos\n",
    "\n",
    "# Calcular la especificidad\n",
    "especificidad2 = TN2 / (TN2 + FP2)\n",
    "\n",
    "# Imprimir el resultado\n",
    "print(f\"Especificidad: {especificidad2:.2f}\")"
   ]
  },
  {
   "cell_type": "markdown",
   "metadata": {},
   "source": [
    "### BOSQUES ALEATORIOS"
   ]
  },
  {
   "cell_type": "code",
   "execution_count": 62,
   "metadata": {},
   "outputs": [
    {
     "name": "stdout",
     "output_type": "stream",
     "text": [
      "Columnas usadas: ['Type_H'], Precisión: 0.5128\n",
      "Columnas usadas: ['Type_H', 'Type_L'], Precisión: 0.5420\n",
      "Columnas usadas: ['Type_H', 'Type_L', 'Type_M'], Precisión: 0.5420\n",
      "Columnas usadas: ['Type_H', 'Type_L', 'Type_M', 'Air temperature [K]'], Precisión: 0.7030\n",
      "Columnas usadas: ['Type_H', 'Type_L', 'Type_M', 'Air temperature [K]', 'Process temperature [K]'], Precisión: 0.9250\n",
      "Columnas usadas: ['Type_H', 'Type_L', 'Type_M', 'Air temperature [K]', 'Process temperature [K]', 'Rotational speed [rpm]'], Precisión: 0.9940\n",
      "Columnas usadas: ['Type_H', 'Type_L', 'Type_M', 'Air temperature [K]', 'Process temperature [K]', 'Rotational speed [rpm]', 'Torque [Nm]'], Precisión: 0.9956\n",
      "Columnas usadas: ['Type_H', 'Type_L', 'Type_M', 'Air temperature [K]', 'Process temperature [K]', 'Rotational speed [rpm]', 'Torque [Nm]', 'Tool wear [min]'], Precisión: 0.9974\n"
     ]
    }
   ],
   "source": [
    "#listas para almacenar resultados\n",
    "resultados = {}\n",
    "col_modelo = []\n",
    "\n",
    "# Iterar sobre las columnas, acumulándolas en `col_modelo`\n",
    "for col in columnas:\n",
    "    col_modelo.append(col)\n",
    "    \n",
    "    # Crear subconjuntos de X_train y X_test usando solo las columnas actuales\n",
    "    X_train_subset = X_train[col_modelo]\n",
    "    X_test_subset = X_test[col_modelo]\n",
    "\n",
    "    # Crear el modelo de Bosques Aleatorios (Random Forest)\n",
    "    rf_model = RandomForestClassifier(random_state=42)  # Crear el modelo de Random Forest\n",
    "    rf_model.fit(X_train_subset, y_train)  # Entrenamos con los datos ya balanceados\n",
    "\n",
    "    # Realizar las predicciones\n",
    "    y_pred = rf_model.predict(X_test_subset)\n",
    "\n",
    "    # Evaluar el modelo utilizando precisión\n",
    "    accuracy = accuracy_score(y_test, y_pred)\n",
    "\n",
    "    # Almacenar el resultado de la precisión\n",
    "    resultados[tuple(col_modelo)] = accuracy\n",
    "\n",
    "    # Imprimir el resultado\n",
    "    print(f'Columnas usadas: {col_modelo}, Precisión: {accuracy:.4f}')"
   ]
  },
  {
   "cell_type": "code",
   "execution_count": 63,
   "metadata": {},
   "outputs": [
    {
     "name": "stdout",
     "output_type": "stream",
     "text": [
      "Accuracy del entrenamiento: 100.00 %\n",
      "Accuracy del algoritmo: 99.74 %\n",
      "\n",
      "Informe de clasificación:\n"
     ]
    },
    {
     "data": {
      "text/html": [
       "<div>\n",
       "<style scoped>\n",
       "    .dataframe tbody tr th:only-of-type {\n",
       "        vertical-align: middle;\n",
       "    }\n",
       "\n",
       "    .dataframe tbody tr th {\n",
       "        vertical-align: top;\n",
       "    }\n",
       "\n",
       "    .dataframe thead th {\n",
       "        text-align: right;\n",
       "    }\n",
       "</style>\n",
       "<table border=\"1\" class=\"dataframe\">\n",
       "  <thead>\n",
       "    <tr style=\"text-align: right;\">\n",
       "      <th></th>\n",
       "      <th>precision</th>\n",
       "      <th>recall</th>\n",
       "      <th>f1-score</th>\n",
       "      <th>support</th>\n",
       "    </tr>\n",
       "  </thead>\n",
       "  <tbody>\n",
       "    <tr>\n",
       "      <th>0</th>\n",
       "      <td>1.000000</td>\n",
       "      <td>0.994829</td>\n",
       "      <td>0.997408</td>\n",
       "      <td>1934.0</td>\n",
       "    </tr>\n",
       "    <tr>\n",
       "      <th>1</th>\n",
       "      <td>0.994848</td>\n",
       "      <td>1.000000</td>\n",
       "      <td>0.997417</td>\n",
       "      <td>1931.0</td>\n",
       "    </tr>\n",
       "    <tr>\n",
       "      <th>macro avg</th>\n",
       "      <td>0.997424</td>\n",
       "      <td>0.997415</td>\n",
       "      <td>0.997413</td>\n",
       "      <td>3865.0</td>\n",
       "    </tr>\n",
       "    <tr>\n",
       "      <th>weighted avg</th>\n",
       "      <td>0.997426</td>\n",
       "      <td>0.997413</td>\n",
       "      <td>0.997413</td>\n",
       "      <td>3865.0</td>\n",
       "    </tr>\n",
       "  </tbody>\n",
       "</table>\n",
       "</div>"
      ],
      "text/plain": [
       "              precision    recall  f1-score  support\n",
       "0              1.000000  0.994829  0.997408   1934.0\n",
       "1              0.994848  1.000000  0.997417   1931.0\n",
       "macro avg      0.997424  0.997415  0.997413   3865.0\n",
       "weighted avg   0.997426  0.997413  0.997413   3865.0"
      ]
     },
     "execution_count": 63,
     "metadata": {},
     "output_type": "execute_result"
    }
   ],
   "source": [
    "# Evaluar la precisión en el conjunto de entrenamiento (balanceado)\n",
    "train_accuracy3 = accuracy_score(y_train, rf_model.predict(X_train))  # Usamos X_train, y_train debido al oversampling\n",
    "print(f\"Accuracy del entrenamiento: {train_accuracy3*100:.2f} %\")\n",
    "\n",
    "# Realizar las predicciones en el conjunto de prueba\n",
    "y_pred = rf_model.predict(X_test)  # Aquí se usa X_test sin resampling\n",
    "\n",
    "# Evaluar la precisión en el conjunto de prueba\n",
    "test_accuracy3 = accuracy_score(y_test, y_pred)\n",
    "print(f\"Accuracy del algoritmo: {test_accuracy3*100:.2f} %\")\n",
    "\n",
    "# Imprimir el informe de clasificación\n",
    "print(\"\\nInforme de clasificación:\")\n",
    "class_report3 = classification_report(y_test, y_pred, output_dict=True)  # Se evalúa el modelo en el conjunto de prueba\n",
    "\n",
    "# Convertir el informe de clasificación en un DataFrame de pandas\n",
    "report_df3 = pd.DataFrame(class_report3).transpose()\n",
    "\n",
    "# Mostrar solo las métricas de las clases (eliminamos la fila 'accuracy')\n",
    "report_df3 = report_df3.drop('accuracy', axis=0)\n",
    "\n",
    "# Imprimir el resumen con las métricas por clase en formato de tabla\n",
    "report_df3"
   ]
  },
  {
   "cell_type": "code",
   "execution_count": 64,
   "metadata": {},
   "outputs": [
    {
     "data": {
      "image/png": "[encoded data removed]",
      "text/plain": [
       "<Figure size 600x400 with 1 Axes>"
      ]
     },
     "metadata": {},
     "output_type": "display_data"
    }
   ],
   "source": [
    "# Calcular la matriz de confusión\n",
    "cm3 = confusion_matrix(y_test, y_pred_resampled)  # Usar 'y_pred_resampled' para las predicciones del conjunto de prueba balanceado\n",
    "\n",
    "# Crear el gráfico de la matriz de confusión con nuevo estilo\n",
    "plt.figure(figsize=(6, 4))\n",
    "sns.heatmap(cm3, annot=True, fmt='d', cmap='YlGnBu', xticklabels=['Clase 0', 'Clase 1'], yticklabels=['Clase 0', 'Clase 1'],\n",
    "            cbar=False, linewidths=1, linecolor='black', square=True, annot_kws={\"size\": 16})\n",
    "\n",
    "# Títulos y etiquetas\n",
    "plt.title('Matriz de Confusión', fontsize=18)\n",
    "plt.xlabel('Predicción', fontsize=14)\n",
    "plt.ylabel('Realidad', fontsize=14)\n",
    "\n",
    "# Ajustar el tamaño de la fuente en los ejes\n",
    "plt.xticks(fontsize=12)\n",
    "plt.yticks(fontsize=12)\n",
    "\n",
    "# Mostrar el gráfico\n",
    "plt.show()"
   ]
  },
  {
   "cell_type": "code",
   "execution_count": 65,
   "metadata": {},
   "outputs": [
    {
     "name": "stdout",
     "output_type": "stream",
     "text": [
      "Especificidad: 0.99\n"
     ]
    }
   ],
   "source": [
    "# Extraer valores de la matriz de confusión\n",
    "TN3 = cm3[0, 0]  # Verdaderos Negativos\n",
    "FP3 = cm3[0, 1]  # Falsos Positivos\n",
    "\n",
    "# Calcular la especificidad\n",
    "especificidad3 = TN3 / (TN3 + FP3)\n",
    "\n",
    "# Imprimir el resultado\n",
    "print(f\"Especificidad: {especificidad3:.2f}\")"
   ]
  },
  {
   "cell_type": "markdown",
   "metadata": {},
   "source": [
    "### GRADIENT BOOSTING MACHINES (GBM)"
   ]
  },
  {
   "cell_type": "code",
   "execution_count": 66,
   "metadata": {},
   "outputs": [
    {
     "name": "stdout",
     "output_type": "stream",
     "text": [
      "Columnas usadas: ['Type_H'], Exactitud: 0.5128\n",
      "Columnas usadas: ['Type_H', 'Type_L'], Exactitud: 0.5420\n",
      "Columnas usadas: ['Type_H', 'Type_L', 'Type_M'], Exactitud: 0.5420\n",
      "Columnas usadas: ['Type_H', 'Type_L', 'Type_M', 'Air temperature [K]'], Exactitud: 0.6887\n",
      "Columnas usadas: ['Type_H', 'Type_L', 'Type_M', 'Air temperature [K]', 'Process temperature [K]'], Exactitud: 0.7263\n",
      "Columnas usadas: ['Type_H', 'Type_L', 'Type_M', 'Air temperature [K]', 'Process temperature [K]', 'Rotational speed [rpm]'], Exactitud: 0.8652\n",
      "Columnas usadas: ['Type_H', 'Type_L', 'Type_M', 'Air temperature [K]', 'Process temperature [K]', 'Rotational speed [rpm]', 'Torque [Nm]'], Exactitud: 0.8978\n",
      "Columnas usadas: ['Type_H', 'Type_L', 'Type_M', 'Air temperature [K]', 'Process temperature [K]', 'Rotational speed [rpm]', 'Torque [Nm]', 'Tool wear [min]'], Exactitud: 0.9589\n"
     ]
    }
   ],
   "source": [
    "# Listas para almacenar resultados\n",
    "resultados = {}\n",
    "col_modelo = []\n",
    "\n",
    "# Iterar sobre las columnas, acumulándolas en `col_modelo`\n",
    "for col in columnas:\n",
    "    col_modelo.append(col)\n",
    "    \n",
    "    # Crear subconjuntos de X_train y X_test usando solo las columnas actuales\n",
    "    X_train_subset = X_train[col_modelo]\n",
    "    X_test_subset = X_test[col_modelo]\n",
    "\n",
    "    # Crear el modelo de Gradient Boosting y entrenarlo\n",
    "    gbm_model = GradientBoostingClassifier(random_state=42)  # Ajusta parámetros si es necesario\n",
    "    gbm_model.fit(X_train_subset, y_train)\n",
    "\n",
    "    # Realizar las predicciones en el conjunto de prueba\n",
    "    y_pred = gbm_model.predict(X_test_subset)\n",
    "\n",
    "    # Calcular y almacenar la precisión\n",
    "    accuracy = accuracy_score(y_test, y_pred)\n",
    "    resultados[tuple(col_modelo)] = accuracy\n",
    "\n",
    "    # Imprimir el resultado de la iteración\n",
    "    print(f'Columnas usadas: {col_modelo}, Exactitud: {accuracy:.4f}')"
   ]
  },
  {
   "cell_type": "code",
   "execution_count": 67,
   "metadata": {},
   "outputs": [
    {
     "name": "stdout",
     "output_type": "stream",
     "text": [
      "Accuracy del entrenamiento : 95.93 %\n",
      "Accuracy del algoritmo: 95.89 %\n",
      "\n",
      "Informe de clasificación :\n"
     ]
    },
    {
     "data": {
      "text/html": [
       "<div>\n",
       "<style scoped>\n",
       "    .dataframe tbody tr th:only-of-type {\n",
       "        vertical-align: middle;\n",
       "    }\n",
       "\n",
       "    .dataframe tbody tr th {\n",
       "        vertical-align: top;\n",
       "    }\n",
       "\n",
       "    .dataframe thead th {\n",
       "        text-align: right;\n",
       "    }\n",
       "</style>\n",
       "<table border=\"1\" class=\"dataframe\">\n",
       "  <thead>\n",
       "    <tr style=\"text-align: right;\">\n",
       "      <th></th>\n",
       "      <th>precision</th>\n",
       "      <th>recall</th>\n",
       "      <th>f1-score</th>\n",
       "      <th>support</th>\n",
       "    </tr>\n",
       "  </thead>\n",
       "  <tbody>\n",
       "    <tr>\n",
       "      <th>0</th>\n",
       "      <td>0.975362</td>\n",
       "      <td>0.941572</td>\n",
       "      <td>0.958169</td>\n",
       "      <td>1934.0</td>\n",
       "    </tr>\n",
       "    <tr>\n",
       "      <th>1</th>\n",
       "      <td>0.943443</td>\n",
       "      <td>0.976178</td>\n",
       "      <td>0.959532</td>\n",
       "      <td>1931.0</td>\n",
       "    </tr>\n",
       "    <tr>\n",
       "      <th>macro avg</th>\n",
       "      <td>0.959402</td>\n",
       "      <td>0.958875</td>\n",
       "      <td>0.958850</td>\n",
       "      <td>3865.0</td>\n",
       "    </tr>\n",
       "    <tr>\n",
       "      <th>weighted avg</th>\n",
       "      <td>0.959415</td>\n",
       "      <td>0.958862</td>\n",
       "      <td>0.958850</td>\n",
       "      <td>3865.0</td>\n",
       "    </tr>\n",
       "  </tbody>\n",
       "</table>\n",
       "</div>"
      ],
      "text/plain": [
       "              precision    recall  f1-score  support\n",
       "0              0.975362  0.941572  0.958169   1934.0\n",
       "1              0.943443  0.976178  0.959532   1931.0\n",
       "macro avg      0.959402  0.958875  0.958850   3865.0\n",
       "weighted avg   0.959415  0.958862  0.958850   3865.0"
      ]
     },
     "execution_count": 67,
     "metadata": {},
     "output_type": "execute_result"
    }
   ],
   "source": [
    "# Evaluar la precisión en el conjunto de entrenamiento\n",
    "train_accuracy4= accuracy_score(y_train, gbm_model.predict(X_train_subset))\n",
    "print(f\"Accuracy del entrenamiento : {train_accuracy4*100:.2f} %\")\n",
    "\n",
    "# Realizar las predicciones en el conjunto de prueba\n",
    "y_pred_gbm = gbm_model.predict(X_test_subset)\n",
    "\n",
    "# Evaluar la precisión en el conjunto de prueba\n",
    "test_accuracy4 = accuracy_score(y_test, y_pred_gbm)\n",
    "print(f\"Accuracy del algoritmo: {test_accuracy4*100:.2f} %\")\n",
    "\n",
    "# Imprimir el informe de clasificación\n",
    "print(\"\\nInforme de clasificación :\")\n",
    "class_report_gbm = classification_report(y_test, y_pred_gbm, output_dict=True)\n",
    "\n",
    "# Convertir el informe de clasificación en un DataFrame de pandas\n",
    "report_df4 = pd.DataFrame(class_report_gbm).transpose()\n",
    "\n",
    "# Mostrar solo las métricas de las clases (eliminamos la fila 'accuracy')\n",
    "report_df4 = report_df4.drop('accuracy', axis=0)\n",
    "\n",
    "# Imprimir el resumen con las métricas por clase en formato de tabla\n",
    "report_df4"
   ]
  },
  {
   "cell_type": "code",
   "execution_count": 68,
   "metadata": {},
   "outputs": [
    {
     "data": {
      "image/png": "[encoded data removed]",
      "text/plain": [
       "<Figure size 600x400 with 1 Axes>"
      ]
     },
     "metadata": {},
     "output_type": "display_data"
    }
   ],
   "source": [
    "# Calcular la matriz de confusión con el Algoritmo de Gradient Boosting\n",
    "cm4 = confusion_matrix(y_test, y_pred_gbm)  # Asegúrate de usar y_pred_gbm para el Algoritmo de Gradient Boosting\n",
    "\n",
    "# Crear la gráfica de la matriz de confusión\n",
    "plt.figure(figsize=(6, 4))\n",
    "sns.heatmap(cm4, annot=True, fmt='d', cmap='YlGnBu', xticklabels=gbm_model.classes_, yticklabels=gbm_model.classes_,\n",
    "            cbar=False, linewidths=1, linecolor='black', square=True, annot_kws={\"size\": 16})\n",
    "\n",
    "# Títulos y etiquetas\n",
    "plt.title('Matriz de Confusión', fontsize=18)\n",
    "plt.xlabel('Predicción', fontsize=14)\n",
    "plt.ylabel('Realidad', fontsize=14)\n",
    "\n",
    "# Ajustar el tamaño de la fuente en los ejes\n",
    "plt.xticks(fontsize=12)\n",
    "plt.yticks(fontsize=12)\n",
    "\n",
    "# Mostrar el gráfico\n",
    "plt.show()"
   ]
  },
  {
   "cell_type": "code",
   "execution_count": 69,
   "metadata": {},
   "outputs": [
    {
     "name": "stdout",
     "output_type": "stream",
     "text": [
      "Especificidad: 0.94\n"
     ]
    }
   ],
   "source": [
    "# Extraer valores de la matriz de confusión\n",
    "TN4 = cm4[0, 0]  # Verdaderos Negativos\n",
    "FP4 = cm4[0, 1]  # Falsos Positivos\n",
    "\n",
    "# Calcular la especificidad\n",
    "especificidad4 = TN4 / (TN4 + FP4)\n",
    "\n",
    "# Imprimir el resultado\n",
    "print(f\"Especificidad: {especificidad4:.2f}\")"
   ]
  },
  {
   "cell_type": "code",
   "execution_count": 70,
   "metadata": {},
   "outputs": [
    {
     "data": {
      "text/html": [
       "<div>\n",
       "<style scoped>\n",
       "    .dataframe tbody tr th:only-of-type {\n",
       "        vertical-align: middle;\n",
       "    }\n",
       "\n",
       "    .dataframe tbody tr th {\n",
       "        vertical-align: top;\n",
       "    }\n",
       "\n",
       "    .dataframe thead th {\n",
       "        text-align: right;\n",
       "    }\n",
       "</style>\n",
       "<table border=\"1\" class=\"dataframe\">\n",
       "  <thead>\n",
       "    <tr style=\"text-align: right;\">\n",
       "      <th></th>\n",
       "      <th>Algoritmo</th>\n",
       "      <th>Precisión Entrenamiento (%)</th>\n",
       "      <th>Precisión Prueba (%)</th>\n",
       "    </tr>\n",
       "  </thead>\n",
       "  <tbody>\n",
       "    <tr>\n",
       "      <th>0</th>\n",
       "      <td>Regresion Logistica</td>\n",
       "      <td>0.823187</td>\n",
       "      <td>0.817594</td>\n",
       "    </tr>\n",
       "    <tr>\n",
       "      <th>1</th>\n",
       "      <td>Arbol de descisiones</td>\n",
       "      <td>1.000000</td>\n",
       "      <td>0.995084</td>\n",
       "    </tr>\n",
       "    <tr>\n",
       "      <th>2</th>\n",
       "      <td>Bosques Aleatorios</td>\n",
       "      <td>1.000000</td>\n",
       "      <td>0.997413</td>\n",
       "    </tr>\n",
       "    <tr>\n",
       "      <th>3</th>\n",
       "      <td>Gradient Boosting Machines</td>\n",
       "      <td>0.959306</td>\n",
       "      <td>0.958862</td>\n",
       "    </tr>\n",
       "  </tbody>\n",
       "</table>\n",
       "</div>"
      ],
      "text/plain": [
       "                    Algoritmo  Precisión Entrenamiento (%)  \\\n",
       "0         Regresion Logistica                     0.823187   \n",
       "1        Arbol de descisiones                     1.000000   \n",
       "2          Bosques Aleatorios                     1.000000   \n",
       "3  Gradient Boosting Machines                     0.959306   \n",
       "\n",
       "   Precisión Prueba (%)  \n",
       "0              0.817594  \n",
       "1              0.995084  \n",
       "2              0.997413  \n",
       "3              0.958862  "
      ]
     },
     "execution_count": 70,
     "metadata": {},
     "output_type": "execute_result"
    }
   ],
   "source": [
    "# Crear el DataFrame usando los valores ya existentes\n",
    "df = pd.DataFrame({\n",
    "    'Algoritmo': ['Regresion Logistica', 'Arbol de descisiones', 'Bosques Aleatorios', 'Gradient Boosting Machines'],\n",
    "    'Precisión Entrenamiento (%)': [train_accuracy1, train_accuracy2, train_accuracy3, train_accuracy4],\n",
    "    'Precisión Prueba (%)': [test_accuracy1, test_accuracy2, test_accuracy3, test_accuracy4]\n",
    "})\n",
    "\n",
    "# Mostrar la tabla sin índice\n",
    "df"
   ]
  },
  {
   "cell_type": "code",
   "execution_count": 71,
   "metadata": {},
   "outputs": [
    {
     "data": {
      "text/html": [
       "<div>\n",
       "<style scoped>\n",
       "    .dataframe tbody tr th:only-of-type {\n",
       "        vertical-align: middle;\n",
       "    }\n",
       "\n",
       "    .dataframe tbody tr th {\n",
       "        vertical-align: top;\n",
       "    }\n",
       "\n",
       "    .dataframe thead th {\n",
       "        text-align: right;\n",
       "    }\n",
       "</style>\n",
       "<table border=\"1\" class=\"dataframe\">\n",
       "  <thead>\n",
       "    <tr style=\"text-align: right;\">\n",
       "      <th></th>\n",
       "      <th></th>\n",
       "      <th>precision</th>\n",
       "      <th>recall</th>\n",
       "      <th>f1-score</th>\n",
       "      <th>support</th>\n",
       "    </tr>\n",
       "    <tr>\n",
       "      <th>Informe de clasificación</th>\n",
       "      <th>index</th>\n",
       "      <th></th>\n",
       "      <th></th>\n",
       "      <th></th>\n",
       "      <th></th>\n",
       "    </tr>\n",
       "  </thead>\n",
       "  <tbody>\n",
       "    <tr>\n",
       "      <th rowspan=\"4\" valign=\"top\">Regresion Logistica</th>\n",
       "      <th>0</th>\n",
       "      <td>0.810510</td>\n",
       "      <td>0.829369</td>\n",
       "      <td>0.819831</td>\n",
       "      <td>1934.0</td>\n",
       "    </tr>\n",
       "    <tr>\n",
       "      <th>1</th>\n",
       "      <td>0.825027</td>\n",
       "      <td>0.805800</td>\n",
       "      <td>0.815300</td>\n",
       "      <td>1931.0</td>\n",
       "    </tr>\n",
       "    <tr>\n",
       "      <th>macro avg</th>\n",
       "      <td>0.817768</td>\n",
       "      <td>0.817585</td>\n",
       "      <td>0.817566</td>\n",
       "      <td>3865.0</td>\n",
       "    </tr>\n",
       "    <tr>\n",
       "      <th>weighted avg</th>\n",
       "      <td>0.817763</td>\n",
       "      <td>0.817594</td>\n",
       "      <td>0.817567</td>\n",
       "      <td>3865.0</td>\n",
       "    </tr>\n",
       "    <tr>\n",
       "      <th rowspan=\"4\" valign=\"top\">Arbol de descisiones</th>\n",
       "      <th>0</th>\n",
       "      <td>1.000000</td>\n",
       "      <td>0.990176</td>\n",
       "      <td>0.995064</td>\n",
       "      <td>1934.0</td>\n",
       "    </tr>\n",
       "    <tr>\n",
       "      <th>1</th>\n",
       "      <td>0.990256</td>\n",
       "      <td>1.000000</td>\n",
       "      <td>0.995104</td>\n",
       "      <td>1931.0</td>\n",
       "    </tr>\n",
       "    <tr>\n",
       "      <th>macro avg</th>\n",
       "      <td>0.995128</td>\n",
       "      <td>0.995088</td>\n",
       "      <td>0.995084</td>\n",
       "      <td>3865.0</td>\n",
       "    </tr>\n",
       "    <tr>\n",
       "      <th>weighted avg</th>\n",
       "      <td>0.995132</td>\n",
       "      <td>0.995084</td>\n",
       "      <td>0.995084</td>\n",
       "      <td>3865.0</td>\n",
       "    </tr>\n",
       "    <tr>\n",
       "      <th rowspan=\"4\" valign=\"top\">Bosques Aleatorios</th>\n",
       "      <th>0</th>\n",
       "      <td>1.000000</td>\n",
       "      <td>0.994829</td>\n",
       "      <td>0.997408</td>\n",
       "      <td>1934.0</td>\n",
       "    </tr>\n",
       "    <tr>\n",
       "      <th>1</th>\n",
       "      <td>0.994848</td>\n",
       "      <td>1.000000</td>\n",
       "      <td>0.997417</td>\n",
       "      <td>1931.0</td>\n",
       "    </tr>\n",
       "    <tr>\n",
       "      <th>macro avg</th>\n",
       "      <td>0.997424</td>\n",
       "      <td>0.997415</td>\n",
       "      <td>0.997413</td>\n",
       "      <td>3865.0</td>\n",
       "    </tr>\n",
       "    <tr>\n",
       "      <th>weighted avg</th>\n",
       "      <td>0.997426</td>\n",
       "      <td>0.997413</td>\n",
       "      <td>0.997413</td>\n",
       "      <td>3865.0</td>\n",
       "    </tr>\n",
       "    <tr>\n",
       "      <th rowspan=\"4\" valign=\"top\">Gradient Boosting Machine</th>\n",
       "      <th>0</th>\n",
       "      <td>0.975362</td>\n",
       "      <td>0.941572</td>\n",
       "      <td>0.958169</td>\n",
       "      <td>1934.0</td>\n",
       "    </tr>\n",
       "    <tr>\n",
       "      <th>1</th>\n",
       "      <td>0.943443</td>\n",
       "      <td>0.976178</td>\n",
       "      <td>0.959532</td>\n",
       "      <td>1931.0</td>\n",
       "    </tr>\n",
       "    <tr>\n",
       "      <th>macro avg</th>\n",
       "      <td>0.959402</td>\n",
       "      <td>0.958875</td>\n",
       "      <td>0.958850</td>\n",
       "      <td>3865.0</td>\n",
       "    </tr>\n",
       "    <tr>\n",
       "      <th>weighted avg</th>\n",
       "      <td>0.959415</td>\n",
       "      <td>0.958862</td>\n",
       "      <td>0.958850</td>\n",
       "      <td>3865.0</td>\n",
       "    </tr>\n",
       "  </tbody>\n",
       "</table>\n",
       "</div>"
      ],
      "text/plain": [
       "                                        precision    recall  f1-score  support\n",
       "Informe de clasificación  index                                               \n",
       "Regresion Logistica       0              0.810510  0.829369  0.819831   1934.0\n",
       "                          1              0.825027  0.805800  0.815300   1931.0\n",
       "                          macro avg      0.817768  0.817585  0.817566   3865.0\n",
       "                          weighted avg   0.817763  0.817594  0.817567   3865.0\n",
       "Arbol de descisiones      0              1.000000  0.990176  0.995064   1934.0\n",
       "                          1              0.990256  1.000000  0.995104   1931.0\n",
       "                          macro avg      0.995128  0.995088  0.995084   3865.0\n",
       "                          weighted avg   0.995132  0.995084  0.995084   3865.0\n",
       "Bosques Aleatorios        0              1.000000  0.994829  0.997408   1934.0\n",
       "                          1              0.994848  1.000000  0.997417   1931.0\n",
       "                          macro avg      0.997424  0.997415  0.997413   3865.0\n",
       "                          weighted avg   0.997426  0.997413  0.997413   3865.0\n",
       "Gradient Boosting Machine 0              0.975362  0.941572  0.958169   1934.0\n",
       "                          1              0.943443  0.976178  0.959532   1931.0\n",
       "                          macro avg      0.959402  0.958875  0.958850   3865.0\n",
       "                          weighted avg   0.959415  0.958862  0.958850   3865.0"
      ]
     },
     "execution_count": 71,
     "metadata": {},
     "output_type": "execute_result"
    }
   ],
   "source": [
    "# Añadir una columna para identificar el Algoritmo en cada DataFrame\n",
    "report_df1['Informe de clasificación'] = 'Regresion Logistica'\n",
    "report_df2['Informe de clasificación'] = 'Arbol de descisiones'\n",
    "report_df3['Informe de clasificación'] = 'Bosques Aleatorios'\n",
    "report_df4['Informe de clasificación'] = 'Gradient Boosting Machine'\n",
    "\n",
    "# Concatenar los DataFrames en uno solo\n",
    "report_df_concatenado = pd.concat([report_df1, report_df2, report_df3, report_df4])\n",
    "\n",
    "# Reordenar para que la columna 'Informe de clasificación' esté al inicio\n",
    "report_df_concatenado = report_df_concatenado.reset_index().set_index(['Informe de clasificación', 'index'])\n",
    "\n",
    "# Mostrar el DataFrame concatenado\n",
    "report_df_concatenado"
   ]
  },
  {
   "cell_type": "code",
   "execution_count": 72,
   "metadata": {},
   "outputs": [
    {
     "data": {
      "text/plain": [
       "['Algoritmo_gbm2.pkl']"
      ]
     },
     "execution_count": 72,
     "metadata": {},
     "output_type": "execute_result"
    }
   ],
   "source": [
    "import joblib\n",
    "\n",
    "# Guardar los Algoritmos entrenados en archivos\n",
    "joblib.dump(log_reg, 'Algoritmo_regresion_logistica2.pkl')  # Regresión Logística\n",
    "joblib.dump(tree_model, 'Algoritmo_arboles2.pkl')  # Árboles de Decisión\n",
    "joblib.dump(rf_model, 'Algoritmo_bosques2.pkl')  # Bosques Aleatorios\n",
    "joblib.dump(gbm_model, 'Algoritmo_gbm2.pkl')  # GBM"
   ]
  }
 ],
 "metadata": {
  "kernelspec": {
   "display_name": "Python 3",
   "language": "python",
   "name": "python3"
  },
  "language_info": {
   "codemirror_mode": {
    "name": "ipython",
    "version": 3
   },
   "file_extension": ".py",
   "mimetype": "text/x-python",
   "name": "python",
   "nbconvert_exporter": "python",
   "pygments_lexer": "ipython3",
   "version": "3.12.8"
  }
 },
 "nbformat": 4,
 "nbformat_minor": 2
}
